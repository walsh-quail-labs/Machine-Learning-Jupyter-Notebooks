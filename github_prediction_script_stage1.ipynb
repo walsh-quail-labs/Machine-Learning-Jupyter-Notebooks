{
  "nbformat": 4,
  "nbformat_minor": 0,
  "metadata": {
    "colab": {
      "name": "final_version_stage1_v1.ipynb",
      "provenance": [],
      "collapsed_sections": [],
      "machine_shape": "hm"
    },
    "kernelspec": {
      "name": "python3",
      "display_name": "Python 3"
    },
    "language_info": {
      "name": "python"
    }
  },
  "cells": [
    {
      "cell_type": "code",
      "source": [
        "from tensorflow.keras.applications.resnet50 import ResNet50\n",
        "from tensorflow.keras.preprocessing import image\n",
        "from tensorflow.keras.applications.resnet50 import preprocess_input, decode_predictions\n",
        "import numpy as np\n",
        "from pathlib import Path\n",
        "model = ResNet50(weights='imagenet')\n",
        "from keras.preprocessing.image import load_img\n",
        "from keras.preprocessing.image import img_to_array\n",
        "from keras.applications.vgg16 import preprocess_input\n",
        "!pip install keract\n",
        "import keract\n",
        "from glob import glob\n",
        "import pandas as pd\n",
        "import numpy as np\n",
        "from google.colab import drive\n",
        "drive.mount('/content/drive')\n",
        "keyFileNameCorr = '/content/drive/MyDrive/Morteza/LungProject/PatientFilenameOrganizaiton/Lung1-7.xlsx'\n",
        "import pickle\n",
        "infile = open('/content/drive/MyDrive/Morteza/LungProject/Data/PreComputedResponses/allResponsesOriented_orig.pickle','rb')\n",
        "new_dict = pickle.load(infile)\n",
        "infile.close()\n",
        "from sklearn.datasets import load_iris\n",
        "from sklearn.model_selection import cross_val_score\n",
        "from sklearn.model_selection import train_test_split\n",
        "from sklearn.preprocessing import normalize\n",
        "from collections import Counter\n",
        "from sklearn.datasets import make_classification\n",
        "from collections import Counter\n",
        "from imblearn.over_sampling import SMOTE\n",
        "from imblearn.over_sampling import SVMSMOTE\n",
        "from imblearn.over_sampling import KMeansSMOTE\n",
        "from imblearn.over_sampling import ADASYN\n",
        "from imblearn.over_sampling import RandomOverSampler\n",
        "from matplotlib import pyplot\n",
        "from numpy import where\n",
        "from imblearn.under_sampling import RandomUnderSampler \n",
        "from statistics import mean\n",
        "from statistics import stdev\n",
        "import numpy as np\n",
        "from sklearn.pipeline import make_pipeline\n",
        "from sklearn.preprocessing import StandardScaler\n",
        "from sklearn.svm import SVC\n",
        "from sklearn.gaussian_process import GaussianProcessClassifier\n",
        "from sklearn.gaussian_process.kernels import RBF\n",
        "import numpy as np\n",
        "from sklearn.datasets import make_friedman1\n",
        "from sklearn.decomposition import MiniBatchSparsePCA\n",
        "from imblearn.over_sampling import RandomOverSampler \n",
        "!pip install umap-learn\n",
        "import umap\n",
        "from random import sample\n",
        "\n"
      ],
      "metadata": {
        "colab": {
          "base_uri": "https://localhost:8080/"
        },
        "id": "dJWopdlqwa38",
        "outputId": "c4f2d9a3-f9dd-4e2d-e8b6-b8be27451407"
      },
      "execution_count": null,
      "outputs": [
        {
          "output_type": "stream",
          "name": "stdout",
          "text": [
            "Requirement already satisfied: keract in /usr/local/lib/python3.7/dist-packages (4.5.0)\n",
            "Drive already mounted at /content/drive; to attempt to forcibly remount, call drive.mount(\"/content/drive\", force_remount=True).\n",
            "Requirement already satisfied: umap-learn in /usr/local/lib/python3.7/dist-packages (0.5.2)\n",
            "Requirement already satisfied: numba>=0.49 in /usr/local/lib/python3.7/dist-packages (from umap-learn) (0.51.2)\n",
            "Requirement already satisfied: pynndescent>=0.5 in /usr/local/lib/python3.7/dist-packages (from umap-learn) (0.5.6)\n",
            "Requirement already satisfied: scikit-learn>=0.22 in /usr/local/lib/python3.7/dist-packages (from umap-learn) (1.0.2)\n",
            "Requirement already satisfied: tqdm in /usr/local/lib/python3.7/dist-packages (from umap-learn) (4.63.0)\n",
            "Requirement already satisfied: numpy>=1.17 in /usr/local/lib/python3.7/dist-packages (from umap-learn) (1.21.5)\n",
            "Requirement already satisfied: scipy>=1.0 in /usr/local/lib/python3.7/dist-packages (from umap-learn) (1.4.1)\n",
            "Requirement already satisfied: setuptools in /usr/local/lib/python3.7/dist-packages (from numba>=0.49->umap-learn) (57.4.0)\n",
            "Requirement already satisfied: llvmlite<0.35,>=0.34.0.dev0 in /usr/local/lib/python3.7/dist-packages (from numba>=0.49->umap-learn) (0.34.0)\n",
            "Requirement already satisfied: joblib>=0.11 in /usr/local/lib/python3.7/dist-packages (from pynndescent>=0.5->umap-learn) (1.1.0)\n",
            "Requirement already satisfied: threadpoolctl>=2.0.0 in /usr/local/lib/python3.7/dist-packages (from scikit-learn>=0.22->umap-learn) (3.1.0)\n"
          ]
        }
      ]
    },
    {
      "cell_type": "code",
      "source": [
        "stage1_address = '/content/drive/MyDrive/Morteza/LungProject/Stage1/stage1_progression.xlsx'\n",
        "df_stage1 = pd.read_excel(stage1_address, dtype=str)\n",
        "# df_stage1['SexGroup'].replace(['Male', 'Female'],[0, 1], inplace=True)\n",
        "# df_stage1['StageCat'].replace(['Stage1-2', 'Stage3_4'],[0, 1], inplace=True)\n",
        "label_column = df_stage1['Progression.1.yes..0..no'].values\n",
        "df_key_filename = pd.read_excel(keyFileNameCorr, dtype=str)\n",
        "file_name_column = df_stage1['File.name'].values"
      ],
      "metadata": {
        "id": "DDD7AmDWfAN6"
      },
      "execution_count": null,
      "outputs": []
    },
    {
      "cell_type": "code",
      "execution_count": null,
      "metadata": {
        "colab": {
          "base_uri": "https://localhost:8080/"
        },
        "id": "W-ChCwbWmFEu",
        "outputId": "2dd78943-f62a-4945-ecef-9a78795c6544"
      },
      "outputs": [
        {
          "output_type": "stream",
          "name": "stdout",
          "text": [
            "416\n"
          ]
        }
      ],
      "source": [
        "source_folder = '/content/drive/MyDrive/Morteza/LungProject/Data/Raw/RawImages'\n",
        "metal_indicator_lung = '/content/drive/MyDrive/Morteza/LungProject/ClinicalVariablesSpecial/Metals_Indicators_LineageMarkers.xlsx'\n",
        "deleteExtraFeatures = 0\n",
        "random_state_num = 22\n",
        "\n",
        "\n",
        "allExamples = glob(source_folder+\"/*/\", recursive = True)\n",
        "print(len(allExamples))\n",
        "df = pd.read_excel (metal_indicator_lung)\n",
        "channel_names = df.Indicator.values\n",
        "co_marker = df.Comarker.values\n",
        "num_channels = len(channel_names)\n",
        "allFileNames = new_dict['allFileNames']\n",
        "allResponsesOriented = new_dict['allResponsesOriented']\n",
        "if deleteExtraFeatures:\n",
        "  toBeDeleted = []\n",
        "  for ind in range(num_channels):\n",
        "    if co_marker[ind]==0:\n",
        "      for j in range(2048):\n",
        "        toBeDeleted.append(ind*2048+j)\n",
        "  print('Number of markers removed = '+str(len(toBeDeleted)/2048)+' out of '+str(num_channels)+' channels')\n",
        "  allResponsesOriented = np.delete(allResponsesOriented,np.s_[toBeDeleted],axis=1)"
      ]
    },
    {
      "cell_type": "code",
      "source": [
        "used = set()\n",
        "# mylist = [u'nowplaying', u'PBS', u'PBS', u'nowplaying', u'job', u'debate', u'thenandnow']\n",
        "unique = [x for x in label_column if x not in used and (used.add(x) or True)]\n",
        "import math\n",
        "unique = [x for x in unique if not (isinstance(x, float) and math.isnan(x))]\n",
        "\n",
        "print(unique)\n",
        "y = []\n",
        "X = []\n",
        "\n",
        "target_0 = unique[0]\n",
        "target_1 = unique[1]"
      ],
      "metadata": {
        "colab": {
          "base_uri": "https://localhost:8080/"
        },
        "id": "zTv3uB5iuyJR",
        "outputId": "b263b5e4-a527-4a7b-b6e6-12fe0e227343"
      },
      "execution_count": null,
      "outputs": [
        {
          "output_type": "stream",
          "name": "stdout",
          "text": [
            "['1', '0']\n"
          ]
        }
      ]
    },
    {
      "cell_type": "code",
      "source": [
        "label_column[0]"
      ],
      "metadata": {
        "colab": {
          "base_uri": "https://localhost:8080/",
          "height": 35
        },
        "id": "B5tYpE6whWba",
        "outputId": "a8b55442-a4bc-4708-a009-bc3f3e89b33d"
      },
      "execution_count": null,
      "outputs": [
        {
          "output_type": "execute_result",
          "data": {
            "application/vnd.google.colaboratory.intrinsic+json": {
              "type": "string"
            },
            "text/plain": [
              "'1'"
            ]
          },
          "metadata": {},
          "execution_count": 6
        }
      ]
    },
    {
      "cell_type": "code",
      "source": [
        "len(file_name_column)"
      ],
      "metadata": {
        "colab": {
          "base_uri": "https://localhost:8080/"
        },
        "id": "eR4vc9TjzVE7",
        "outputId": "53569f12-0c3d-43ef-8262-13b29c7b6e4e"
      },
      "execution_count": null,
      "outputs": [
        {
          "output_type": "execute_result",
          "data": {
            "text/plain": [
              "286"
            ]
          },
          "metadata": {},
          "execution_count": 7
        }
      ]
    },
    {
      "cell_type": "code",
      "source": [
        "X = []\n",
        "y = []\n",
        "def remove_end_spaces(string):\n",
        "    return \"\".join(string.rstrip())\n",
        "for i in range(len(file_name_column)):\n",
        "  ind_num = [index for index, value in enumerate(allFileNames[:416]) if value == remove_end_spaces(file_name_column[i])]\n",
        "  # ind_num = [index for index, value in enumerate(file_name_column[:416]) if value == remove_end_spaces(allFileNames[i])]\n",
        "  # if index_num.shape[0] == 0:\n",
        "  #   print()\n",
        "  y_val = label_column[i]\n",
        "  # print(val)\n",
        "\n",
        "  if y_val==target_0 or y_val==target_1:    \n",
        "    y.append(y_val)\n",
        "    if len(X)==0:\n",
        "      X = allResponsesOriented[ind_num,:]\n",
        "    else:\n",
        "      X = np.vstack([X, allResponsesOriented[ind_num,:]])\n",
        "\n",
        "\n",
        "\n",
        "copyX = X\n",
        "copyY = y"
      ],
      "metadata": {
        "id": "9T325dRf3zFU"
      },
      "execution_count": null,
      "outputs": []
    },
    {
      "cell_type": "code",
      "source": [
        "X.shape"
      ],
      "metadata": {
        "colab": {
          "base_uri": "https://localhost:8080/"
        },
        "id": "bT3_sy9uK_kW",
        "outputId": "24046202-df8f-44ec-e8d1-6bd738e9e08f"
      },
      "execution_count": null,
      "outputs": [
        {
          "output_type": "execute_result",
          "data": {
            "text/plain": [
              "(286, 75776)"
            ]
          },
          "metadata": {},
          "execution_count": 9
        }
      ]
    },
    {
      "cell_type": "code",
      "source": [
        "X = copyX\n",
        "y = copyY\n",
        "A = Counter(y)\n",
        "if len(unique)==2:\n",
        "  class_0 = A.get(target_0)\n",
        "  class_1 = A.get(target_1)\n",
        "  n0 = int(class_0/10)\n",
        "  n1 = int(class_1/10)\n",
        "  baseline_dist = max(class_0,class_1)/(max(class_0,class_1)+min(class_0,class_1))\n",
        "  ratio = max(class_0,class_1)/min(class_0,class_1)\n",
        "elif len(unique) > 2:\n",
        "  ratio = 2\n",
        "print('Original dataset shape %s' % Counter(y))\n",
        "if ratio >=2:\n",
        "  ros = RandomOverSampler(random_state=42)\n",
        "  X, y = ros.fit_resample(X, y)\n",
        "  print('Resampled dataset shape %s' % Counter(y))\n",
        "\n",
        "\n",
        "yy = np.array(y)\n",
        "import numpy as np\n",
        "from sklearn.model_selection import KFold\n",
        "kf = KFold(n_splits=5,random_state=10,shuffle=True)\n",
        "kf.get_n_splits(X)\n",
        "\n",
        "delete_dup = True\n",
        "# print(kf)\n",
        "\n",
        "for train_index, test_index in kf.split(X):\n",
        "    # print(\"TRAIN:\", train_index, \"TEST:\", test_index)\n",
        "    X_train, X_test = X[train_index], X[test_index]\n",
        "    y_train, y_test = yy[train_index], yy[test_index]\n",
        "    toBeDeleted = []\n",
        "    if delete_dup: \n",
        "      for i in range(X_test.shape[0]):\n",
        "        query = X_test[i]\n",
        "        j = 0\n",
        "        query_found = 0\n",
        "        while j < X_train.shape[0] and query_found==0:\n",
        "          match = X_train[j]\n",
        "          dist = np.linalg.norm(query-match)\n",
        "          if dist == 0:\n",
        "            query_found = 1\n",
        "            toBeDeleted.append(i)\n",
        "          j = j + 1\n",
        "\n",
        "      if X_test.shape[0]-len(toBeDeleted) >= 5:\n",
        "        X_test = np.delete(X_test,np.s_[toBeDeleted],axis=0)\n",
        "        y_test = np.delete(y_test,np.s_[toBeDeleted],axis=0)\n",
        "    transformer = MiniBatchSparsePCA(n_components=9, batch_size=500,random_state=0)\n",
        "    transformer.fit(X_train)\n",
        "    X_tr_em = transformer.transform(X_train)\n",
        "    X_te_em = transformer.transform(X_test)\n",
        "    kernel = 1.0 * RBF(1.0)\n",
        "    clf = make_pipeline(StandardScaler(), SVC(gamma=1e1,C=1e1,kernel = kernel))\n",
        "    clf.fit(X_tr_em, y_train)\n",
        "    print('test score = '+str(clf.score(X_te_em,y_test)))\n",
        "    \n",
        "A = Counter(copyY)\n",
        "if len(unique)==2:\n",
        "  class_0 = A.get(target_0)\n",
        "  class_1 = A.get(target_1)\n",
        "  ratio = max(class_0,class_1)/(max(class_0,class_1)+min(class_0,class_1))\n",
        "  print('baseline = '+str(ratio))\n"
      ],
      "metadata": {
        "id": "wFMMgEwNwnPP",
        "colab": {
          "base_uri": "https://localhost:8080/"
        },
        "outputId": "ad3d4b40-a6da-4d73-e741-5cef5910ccf0"
      },
      "execution_count": null,
      "outputs": [
        {
          "output_type": "stream",
          "name": "stdout",
          "text": [
            "Original dataset shape Counter({'0': 244, '1': 42})\n",
            "Resampled dataset shape Counter({'1': 244, '0': 244})\n",
            "test score = 0.9285714285714286\n",
            "test score = 0.9607843137254902\n",
            "test score = 0.9302325581395349\n",
            "test score = 1.0\n",
            "test score = 0.9772727272727273\n",
            "baseline = 0.8531468531468531\n"
          ]
        }
      ]
    }
  ]
}