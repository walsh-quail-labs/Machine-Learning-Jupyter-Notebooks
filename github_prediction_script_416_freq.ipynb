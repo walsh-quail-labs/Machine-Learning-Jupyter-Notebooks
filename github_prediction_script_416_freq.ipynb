{
 "cells": [
  {
   "cell_type": "code",
   "execution_count": null,
   "metadata": {
    "colab": {
     "base_uri": "https://localhost:8080/"
    },
    "id": "dJWopdlqwa38",
    "outputId": "5a3e37b9-780c-4180-ed65-db5b857a9046"
   },
   "outputs": [
    {
     "name": "stdout",
     "output_type": "stream",
     "text": [
      "Drive already mounted at /content/drive; to attempt to forcibly remount, call drive.mount(\"/content/drive\", force_remount=True).\n"
     ]
    }
   ],
   "source": [
    "\n",
    "import numpy as np\n",
    "from pathlib import Path\n",
    "import pandas as pd\n",
    "from google.colab import drive\n",
    "drive.mount('/content/drive')\n",
    "keyFileNameCorr = '/content/drive/MyDrive/Morteza/LungProject/PatientFilenameOrganizaiton/Lung1-7.xlsx'\n",
    "from sklearn.model_selection import cross_val_score\n",
    "from sklearn.model_selection import train_test_split\n",
    "from sklearn.preprocessing import normalize\n",
    "from collections import Counter\n",
    "from sklearn.datasets import make_classification\n",
    "from collections import Counter\n",
    "from imblearn.over_sampling import RandomOverSampler\n",
    "from matplotlib import pyplot\n",
    "from numpy import where\n",
    "from statistics import mean\n",
    "from statistics import stdev\n",
    "import numpy as np\n",
    "from sklearn.pipeline import make_pipeline\n",
    "from sklearn.preprocessing import StandardScaler\n",
    "from sklearn.svm import SVC\n",
    "from sklearn.gaussian_process import GaussianProcessClassifier\n",
    "from sklearn.gaussian_process.kernels import RBF\n",
    "import numpy as np\n",
    "from sklearn.decomposition import MiniBatchSparsePCA\n",
    "from imblearn.over_sampling import RandomOverSampler \n",
    "from random import sample\n",
    "clinical_416_address = '/content/drive/MyDrive/Morteza/LungProject/PatientFilenameOrganizaiton/416_Prediction_Clinical_variables.xlsx'\n",
    "df_416 = pd.read_excel(clinical_416_address, dtype=str)\n",
    "df_416['SexGroup'].replace(['Male', 'Female'],[0, 1], inplace=True)\n",
    "df_416['StageCat'].replace(['Stage1-2', 'Stage3_4'],[0, 1], inplace=True)\n",
    "df_key_filename = pd.read_excel(keyFileNameCorr, dtype=str)\n"
   ]
  },
  {
   "cell_type": "code",
   "execution_count": null,
   "metadata": {
    "id": "W-ChCwbWmFEu"
   },
   "outputs": [],
   "source": [
    "\n",
    "random_state_num = 22\n"
   ]
  },
  {
   "cell_type": "code",
   "execution_count": null,
   "metadata": {
    "colab": {
     "base_uri": "https://localhost:8080/"
    },
    "id": "zTv3uB5iuyJR",
    "outputId": "d2ad95a6-e93c-42bd-db3a-2c8fc252dece"
   },
   "outputs": [
    {
     "name": "stdout",
     "output_type": "stream",
     "text": [
      "['1', '0']\n"
     ]
    }
   ],
   "source": [
    "\n",
    "\n",
    "# label_column = df_416['Adenocarcinoma.predominant.type.1.lepidic.2.Acinar.3.Papillary.4.Micropapillary.5.Solid'].values\n",
    "# label_column = df_416['SexGroup'].values\n",
    "# label_column = df_416['StageCat'].values  #(comes with nan values)\n",
    "# label_column = df_416['Progression (0 = no, 1= yes)'].values #(comes with nan values)\n",
    "# label_column = df_416['BMI <30 0, <30 1'].values\n",
    "label_column = df_416['Smoker 0=never 1 = smoker'].values\n",
    "# label_column = df_416['Age above (1) below (0) 70'].values\n",
    "# label_column = df_416['Age above (1) below (0) 75'].values\n",
    "# label_column = df_416['survival 3 years'].values\n",
    "# label_column = df_416['5 year survival'].values\n",
    "\n",
    "file_name_column = df_416['File.name'].values\n",
    "\n",
    "\n",
    "\n",
    "used = set()\n",
    "# mylist = [u'nowplaying', u'PBS', u'PBS', u'nowplaying', u'job', u'debate', u'thenandnow']\n",
    "unique = [x for x in label_column if x not in used and (used.add(x) or True)]\n",
    "import math\n",
    "unique = [x for x in unique if not (isinstance(x, float) and math.isnan(x))]\n",
    "\n",
    "print(unique)\n",
    "y = []\n",
    "X = []\n",
    "\n",
    "target_0 = unique[0]\n",
    "target_1 = unique[1]\n",
    "\n",
    "\n",
    "# target_0 = '0'\n",
    "# target_1 = '1'\n",
    "if len(unique) > 2:\n",
    "  target_2 = unique[2]\n",
    "  target_3 = unique[3]\n",
    "  target_4 = unique[4]"
   ]
  },
  {
   "cell_type": "code",
   "execution_count": null,
   "metadata": {
    "id": "zJhzsleGBd6I"
   },
   "outputs": [],
   "source": [
    "cell_freq = pd.read_csv('/content/drive/MyDrive/Morteza/LungProject/CellFrequencies/cell_frequencies.csv', dtype=str)"
   ]
  },
  {
   "cell_type": "code",
   "execution_count": null,
   "metadata": {
    "id": "JcIFFL9BB0V1"
   },
   "outputs": [],
   "source": [
    "cellFrequencies = cell_freq.iloc[:,range(4,38,2)].values\n",
    "cellFrequencies = np.asarray(cellFrequencies, dtype=np.float64, order='C')"
   ]
  },
  {
   "cell_type": "code",
   "execution_count": null,
   "metadata": {
    "id": "v7b4snXNBiys"
   },
   "outputs": [],
   "source": [
    "allFileNames = cell_freq['File name']\n"
   ]
  },
  {
   "cell_type": "code",
   "execution_count": null,
   "metadata": {
    "id": "9T325dRf3zFU"
   },
   "outputs": [],
   "source": [
    "X = []\n",
    "y = []\n",
    "# print(len(unique))\n",
    "\n",
    "\n",
    "\n",
    "def remove_end_spaces(string):\n",
    "    return \"\".join(string.rstrip())\n",
    "for i in range(416):\n",
    "  ind_num = [index for index, value in enumerate(allFileNames[:416]) if value == remove_end_spaces(file_name_column[i])]\n",
    "  \n",
    "  y_val = label_column[i]\n",
    "  # print(ind_num)\n",
    "\n",
    "  if len(unique)==2:\n",
    "    if y_val==target_0 or y_val==target_1:    \n",
    "      \n",
    "      if len(X)==0 and len(ind_num)!=0:\n",
    "        y.append(y_val)\n",
    "        X = cellFrequencies[ind_num,:]\n",
    "        \n",
    "      elif len(ind_num)!=0:\n",
    "        y.append(y_val)\n",
    "        X = np.vstack([X, cellFrequencies[ind_num,:]])\n",
    "  elif len(unique) > 2:\n",
    "    if y_val==target_0 or y_val==target_1 or y_val==target_2 or y_val==target_3 or y_val==target_4:    \n",
    "      \n",
    "      if len(X)==0 and len(ind_num)!=0:\n",
    "        y.append(y_val)\n",
    "        X = cellFrequencies[ind_num,:]\n",
    "      elif len(ind_num)!=0:\n",
    "        y.append(y_val)\n",
    "        X = np.vstack([X, cellFrequencies[ind_num,:]])\n",
    "\n",
    "\n",
    "copyX = X\n",
    "copyY = y"
   ]
  },
  {
   "cell_type": "code",
   "execution_count": null,
   "metadata": {
    "colab": {
     "base_uri": "https://localhost:8080/"
    },
    "id": "wFMMgEwNwnPP",
    "outputId": "cace517e-82a4-44b7-ec09-723531afe4f9"
   },
   "outputs": [
    {
     "name": "stdout",
     "output_type": "stream",
     "text": [
      "Original dataset shape Counter({'1': 377, '0': 38})\n",
      "Resampled dataset shape Counter({'1': 377, '0': 377})\n",
      "test score = 92.20779220779221\n",
      "test score = 96.1038961038961\n",
      "test score = 93.05555555555556\n",
      "test score = 94.8051948051948\n",
      "test score = 93.42105263157895\n",
      "baseline = 0.908433734939759\n"
     ]
    }
   ],
   "source": [
    "X = copyX\n",
    "y = copyY\n",
    "A = Counter(y)\n",
    "if len(unique)==2:\n",
    "  class_0 = A.get(target_0)\n",
    "  class_1 = A.get(target_1)\n",
    "  n0 = int(class_0/10)\n",
    "  n1 = int(class_1/10)\n",
    "  baseline_dist = max(class_0,class_1)/(max(class_0,class_1)+min(class_0,class_1))\n",
    "  ratio = max(class_0,class_1)/min(class_0,class_1)\n",
    "elif len(unique) > 2:\n",
    "  ratio = 2\n",
    "print('Original dataset shape %s' % Counter(y))\n",
    "if ratio >=2:\n",
    "  ros = RandomOverSampler(random_state=42)\n",
    "  X, y = ros.fit_resample(X, y)\n",
    "  print('Resampled dataset shape %s' % Counter(y))\n",
    "\n",
    "\n",
    "yy = np.array(y)\n",
    "import numpy as np\n",
    "from sklearn.model_selection import KFold\n",
    "kf = KFold(n_splits=5,random_state=10,shuffle=True)\n",
    "kf.get_n_splits(X)\n",
    "\n",
    "delete_dup = True\n",
    "# print(kf)\n",
    "\n",
    "for train_index, test_index in kf.split(X):\n",
    "    # print(\"TRAIN:\", train_index, \"TEST:\", test_index)\n",
    "    X_train, X_test = X[train_index], X[test_index]\n",
    "    y_train, y_test = yy[train_index], yy[test_index]\n",
    "    toBeDeleted = []\n",
    "    if delete_dup: \n",
    "      for i in range(X_test.shape[0]):\n",
    "        query = X_test[i]\n",
    "        j = 0\n",
    "        query_found = 0\n",
    "        while j < X_train.shape[0] and query_found==0:\n",
    "          match = X_train[j]\n",
    "          # print(query)\n",
    "          dist = np.linalg.norm(query-match)\n",
    "          if dist == 0:\n",
    "            query_found = 1\n",
    "            toBeDeleted.append(i)\n",
    "          j = j + 1\n",
    "\n",
    "      if X_test.shape[0]-len(toBeDeleted) >= 5:\n",
    "        X_test = np.delete(X_test,np.s_[toBeDeleted],axis=0)\n",
    "        y_test = np.delete(y_test,np.s_[toBeDeleted],axis=0)\n",
    "    transformer = MiniBatchSparsePCA(n_components=10, batch_size=500,random_state=0)\n",
    "    transformer.fit(X_train)\n",
    "    X_tr_em = transformer.transform(X_train)\n",
    "    X_te_em = transformer.transform(X_test)\n",
    "    kernel = 1.0 * RBF(1.0)\n",
    "    clf = make_pipeline(StandardScaler(), SVC(gamma=1e1,C=1e1,kernel = kernel))\n",
    "    clf.fit(X_tr_em, y_train)\n",
    "    print('test score = '+str(clf.score(X_te_em,y_test)*100))\n",
    "    \n",
    "A = Counter(copyY)\n",
    "if len(unique)==2:\n",
    "  class_0 = A.get(target_0)\n",
    "  class_1 = A.get(target_1)\n",
    "  ratio = max(class_0,class_1)/(max(class_0,class_1)+min(class_0,class_1))\n",
    "  print('baseline = '+str(ratio))\n",
    "\n",
    "\n",
    "# X_train, X_test, y_train, y_test = train_test_split(X, y, test_size=0.2, random_state=12)"
   ]
  }
 ],
 "metadata": {
  "accelerator": "TPU",
  "colab": {
   "collapsed_sections": [],
   "machine_shape": "hm",
   "name": "final_version_celltype_freq.ipynb",
   "provenance": []
  },
  "kernelspec": {
   "display_name": "Python 3",
   "language": "python",
   "name": "python3"
  },
  "language_info": {
   "codemirror_mode": {
    "name": "ipython",
    "version": 3
   },
   "file_extension": ".py",
   "mimetype": "text/x-python",
   "name": "python",
   "nbconvert_exporter": "python",
   "pygments_lexer": "ipython3",
   "version": "3.7.6"
  }
 },
 "nbformat": 4,
 "nbformat_minor": 1
}
