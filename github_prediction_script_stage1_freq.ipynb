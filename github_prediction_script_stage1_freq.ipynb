{
  "nbformat": 4,
  "nbformat_minor": 0,
  "metadata": {
    "colab": {
      "name": "final_version_stage1_v_freq.ipynb",
      "provenance": [],
      "collapsed_sections": [],
      "machine_shape": "hm"
    },
    "kernelspec": {
      "name": "python3",
      "display_name": "Python 3"
    },
    "language_info": {
      "name": "python"
    }
  },
  "cells": [
    {
      "cell_type": "code",
      "source": [
        "import numpy as np\n",
        "from pathlib import Path\n",
        "import pandas as pd\n",
        "from google.colab import drive\n",
        "drive.mount('/content/drive')\n",
        "keyFileNameCorr = '/content/drive/MyDrive/Morteza/LungProject/PatientFilenameOrganizaiton/Lung1-7.xlsx'\n",
        "from sklearn.model_selection import cross_val_score\n",
        "from sklearn.model_selection import train_test_split\n",
        "from sklearn.preprocessing import normalize\n",
        "from collections import Counter\n",
        "from sklearn.datasets import make_classification\n",
        "from collections import Counter\n",
        "from imblearn.over_sampling import RandomOverSampler\n",
        "from matplotlib import pyplot\n",
        "from numpy import where\n",
        "from statistics import mean\n",
        "from statistics import stdev\n",
        "import numpy as np\n",
        "from sklearn.pipeline import make_pipeline\n",
        "from sklearn.preprocessing import StandardScaler\n",
        "from sklearn.svm import SVC\n",
        "from sklearn.gaussian_process import GaussianProcessClassifier\n",
        "from sklearn.gaussian_process.kernels import RBF\n",
        "import numpy as np\n",
        "from sklearn.decomposition import MiniBatchSparsePCA\n",
        "from imblearn.over_sampling import RandomOverSampler \n",
        "from random import sample\n",
        "clinical_416_address = '/content/drive/MyDrive/Morteza/LungProject/PatientFilenameOrganizaiton/416_Prediction_Clinical_variables.xlsx'\n",
        "df_416 = pd.read_excel(clinical_416_address, dtype=str)\n",
        "df_416['SexGroup'].replace(['Male', 'Female'],[0, 1], inplace=True)\n",
        "df_416['StageCat'].replace(['Stage1-2', 'Stage3_4'],[0, 1], inplace=True)\n",
        "df_key_filename = pd.read_excel(keyFileNameCorr, dtype=str)\n"
      ],
      "metadata": {
        "colab": {
          "base_uri": "https://localhost:8080/"
        },
        "id": "dJWopdlqwa38",
        "outputId": "99f2768e-e990-4ffe-f3dd-94a79e555ee2"
      },
      "execution_count": null,
      "outputs": [
        {
          "output_type": "stream",
          "name": "stdout",
          "text": [
            "Mounted at /content/drive\n"
          ]
        }
      ]
    },
    {
      "cell_type": "code",
      "source": [
        "stage1_address = '/content/drive/MyDrive/Morteza/LungProject/Stage1/stage1_progression.xlsx'\n",
        "df_stage1 = pd.read_excel(stage1_address, dtype=str)\n",
        "# df_stage1['SexGroup'].replace(['Male', 'Female'],[0, 1], inplace=True)\n",
        "# df_stage1['StageCat'].replace(['Stage1-2', 'Stage3_4'],[0, 1], inplace=True)\n",
        "label_column = df_stage1['Progression.1.yes..0..no'].values\n",
        "df_key_filename = pd.read_excel(keyFileNameCorr, dtype=str)\n",
        "file_name_column = df_stage1['File.name'].values"
      ],
      "metadata": {
        "id": "DDD7AmDWfAN6"
      },
      "execution_count": null,
      "outputs": []
    },
    {
      "cell_type": "code",
      "execution_count": null,
      "metadata": {
        "id": "W-ChCwbWmFEu"
      },
      "outputs": [],
      "source": [
        "random_state_num = 22"
      ]
    },
    {
      "cell_type": "code",
      "source": [
        "cell_freq = pd.read_csv('/content/drive/MyDrive/Morteza/LungProject/CellFrequencies/cell_frequencies.csv', dtype=str)\n",
        "cellFrequencies = cell_freq.iloc[:,range(4,38,2)].values\n",
        "cellFrequencies = np.asarray(cellFrequencies, dtype=np.float64, order='C')\n",
        "allFileNames = cell_freq['File name']\n"
      ],
      "metadata": {
        "id": "st44SIR86Xh-"
      },
      "execution_count": null,
      "outputs": []
    },
    {
      "cell_type": "code",
      "source": [
        "allFileNames"
      ],
      "metadata": {
        "colab": {
          "base_uri": "https://localhost:8080/"
        },
        "id": "qfSqRnxN68W-",
        "outputId": "33c7c097-2c74-4af1-c2d9-bf38bcf99fc2"
      },
      "execution_count": null,
      "outputs": [
        {
          "output_type": "execute_result",
          "data": {
            "text/plain": [
              "0       Pano 01_Row5-2_1_ROI 07_H03-2758 C5-2_7\n",
              "1        Pano 01_R5-R3_1_ROI 07_H04-0309 C2-1_7\n",
              "2       Pano 01_Row9-7_1_ROI 08_H08-0549 C5-1_8\n",
              "3        Pano 01_R8-R5_1_ROI 04_H08-0636 A2-1_4\n",
              "4      Pano 01_Row5-2_1_ROI 11_H08-0669 J5-2_11\n",
              "                         ...                   \n",
              "411     Pano 02_Row5-4_2_ROI 01_H11-3292 D7-3_1\n",
              "412     Pano 01_Row8-6_1_ROI 05_H12-1125 F7-1_5\n",
              "413       Pano 01_Row8_1_ROI 03_H12-3271 A2-1_3\n",
              "414     Pano 01_Row2-3_1_ROI 02_H12-4532 G4-1_2\n",
              "415    Pano 01_Row8-6_1_ROI 14_H12-4607 G5-1_14\n",
              "Name: File name, Length: 416, dtype: object"
            ]
          },
          "metadata": {},
          "execution_count": 9
        }
      ]
    },
    {
      "cell_type": "code",
      "source": [
        "used = set()\n",
        "# mylist = [u'nowplaying', u'PBS', u'PBS', u'nowplaying', u'job', u'debate', u'thenandnow']\n",
        "unique = [x for x in label_column if x not in used and (used.add(x) or True)]\n",
        "import math\n",
        "unique = [x for x in unique if not (isinstance(x, float) and math.isnan(x))]\n",
        "\n",
        "print(unique)\n",
        "y = []\n",
        "X = []\n",
        "\n",
        "target_0 = unique[0]\n",
        "target_1 = unique[1]"
      ],
      "metadata": {
        "colab": {
          "base_uri": "https://localhost:8080/"
        },
        "id": "zTv3uB5iuyJR",
        "outputId": "786b1e3d-2691-47d5-e0b6-0fe5ad9bea45"
      },
      "execution_count": null,
      "outputs": [
        {
          "output_type": "stream",
          "name": "stdout",
          "text": [
            "['1', '0']\n"
          ]
        }
      ]
    },
    {
      "cell_type": "code",
      "source": [
        "X = []\n",
        "y = []\n",
        "# print(len(unique))\n",
        "\n",
        "\n",
        "\n",
        "def remove_end_spaces(string):\n",
        "    return \"\".join(string.rstrip())\n",
        "for i in range(len(file_name_column)):\n",
        "  ind_num = [index for index, value in enumerate(allFileNames[:416]) if value == remove_end_spaces(file_name_column[i])]\n",
        "  \n",
        "  y_val = label_column[i]\n",
        "  # print(ind_num)\n",
        "\n",
        "  if len(unique)==2:\n",
        "    if y_val==target_0 or y_val==target_1:    \n",
        "      \n",
        "      if len(X)==0 and len(ind_num)!=0:\n",
        "        y.append(y_val)\n",
        "        X = cellFrequencies[ind_num,:]\n",
        "        \n",
        "      elif len(ind_num)!=0:\n",
        "        y.append(y_val)\n",
        "        X = np.vstack([X, cellFrequencies[ind_num,:]])\n",
        "  elif len(unique) > 2:\n",
        "    if y_val==target_0 or y_val==target_1 or y_val==target_2 or y_val==target_3 or y_val==target_4:    \n",
        "      \n",
        "      if len(X)==0 and len(ind_num)!=0:\n",
        "        y.append(y_val)\n",
        "        X = cellFrequencies[ind_num,:]\n",
        "      elif len(ind_num)!=0:\n",
        "        y.append(y_val)\n",
        "        X = np.vstack([X, cellFrequencies[ind_num,:]])\n",
        "\n",
        "\n",
        "copyX = X\n",
        "copyY = y"
      ],
      "metadata": {
        "id": "d3t6lxLH7IXG"
      },
      "execution_count": null,
      "outputs": []
    },
    {
      "cell_type": "code",
      "source": [
        "X.shape"
      ],
      "metadata": {
        "colab": {
          "base_uri": "https://localhost:8080/"
        },
        "id": "bT3_sy9uK_kW",
        "outputId": "3711c865-5ee3-4e9e-a36a-ed12cef9761a"
      },
      "execution_count": null,
      "outputs": [
        {
          "output_type": "execute_result",
          "data": {
            "text/plain": [
              "(286, 17)"
            ]
          },
          "metadata": {},
          "execution_count": 12
        }
      ]
    },
    {
      "cell_type": "code",
      "source": [
        "X = copyX\n",
        "y = copyY\n",
        "A = Counter(y)\n",
        "if len(unique)==2:\n",
        "  class_0 = A.get(target_0)\n",
        "  class_1 = A.get(target_1)\n",
        "  n0 = int(class_0/10)\n",
        "  n1 = int(class_1/10)\n",
        "  baseline_dist = max(class_0,class_1)/(max(class_0,class_1)+min(class_0,class_1))\n",
        "  ratio = max(class_0,class_1)/min(class_0,class_1)\n",
        "elif len(unique) > 2:\n",
        "  ratio = 2\n",
        "print('Original dataset shape %s' % Counter(y))\n",
        "if ratio >=2:\n",
        "  ros = RandomOverSampler(random_state=42)\n",
        "  X, y = ros.fit_resample(X, y)\n",
        "  print('Resampled dataset shape %s' % Counter(y))\n",
        "\n",
        "\n",
        "yy = np.array(y)\n",
        "import numpy as np\n",
        "from sklearn.model_selection import KFold\n",
        "kf = KFold(n_splits=5,random_state=10,shuffle=True)\n",
        "kf.get_n_splits(X)\n",
        "\n",
        "delete_dup = True\n",
        "# print(kf)\n",
        "\n",
        "for train_index, test_index in kf.split(X):\n",
        "    # print(\"TRAIN:\", train_index, \"TEST:\", test_index)\n",
        "    X_train, X_test = X[train_index], X[test_index]\n",
        "    y_train, y_test = yy[train_index], yy[test_index]\n",
        "    toBeDeleted = []\n",
        "    if delete_dup: \n",
        "      for i in range(X_test.shape[0]):\n",
        "        query = X_test[i]\n",
        "        j = 0\n",
        "        query_found = 0\n",
        "        while j < X_train.shape[0] and query_found==0:\n",
        "          match = X_train[j]\n",
        "          dist = np.linalg.norm(query-match)\n",
        "          if dist == 0:\n",
        "            query_found = 1\n",
        "            toBeDeleted.append(i)\n",
        "          j = j + 1\n",
        "\n",
        "      if X_test.shape[0]-len(toBeDeleted) >= 5:\n",
        "        X_test = np.delete(X_test,np.s_[toBeDeleted],axis=0)\n",
        "        y_test = np.delete(y_test,np.s_[toBeDeleted],axis=0)\n",
        "    transformer = MiniBatchSparsePCA(n_components=9, batch_size=500,random_state=0)\n",
        "    transformer.fit(X_train)\n",
        "    X_tr_em = transformer.transform(X_train)\n",
        "    X_te_em = transformer.transform(X_test)\n",
        "    kernel = 1.0 * RBF(1.0)\n",
        "    clf = make_pipeline(StandardScaler(), SVC(gamma=1e1,C=1e1,kernel = kernel))\n",
        "    clf.fit(X_tr_em, y_train)\n",
        "    print('test score = '+str(clf.score(X_te_em,y_test)))\n",
        "    \n",
        "A = Counter(copyY)\n",
        "if len(unique)==2:\n",
        "  class_0 = A.get(target_0)\n",
        "  class_1 = A.get(target_1)\n",
        "  ratio = max(class_0,class_1)/(max(class_0,class_1)+min(class_0,class_1))\n",
        "  print('baseline = '+str(ratio))\n"
      ],
      "metadata": {
        "id": "wFMMgEwNwnPP",
        "colab": {
          "base_uri": "https://localhost:8080/"
        },
        "outputId": "1e1709fc-7883-4b73-f445-d4c085c236fc"
      },
      "execution_count": null,
      "outputs": [
        {
          "output_type": "stream",
          "name": "stdout",
          "text": [
            "Original dataset shape Counter({'0': 244, '1': 42})\n",
            "Resampled dataset shape Counter({'1': 244, '0': 244})\n",
            "test score = 0.9285714285714286\n",
            "test score = 0.9215686274509803\n",
            "test score = 0.9069767441860465\n",
            "test score = 0.86\n",
            "test score = 0.7954545454545454\n",
            "baseline = 0.8531468531468531\n"
          ]
        }
      ]
    }
  ]
}