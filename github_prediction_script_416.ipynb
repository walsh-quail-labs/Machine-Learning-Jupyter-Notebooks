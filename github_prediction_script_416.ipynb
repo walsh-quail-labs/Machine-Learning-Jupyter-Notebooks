{
  "nbformat": 4,
  "nbformat_minor": 0,
  "metadata": {
    "colab": {
      "name": "github_prediction_script_416.ipynb",
      "provenance": [],
      "collapsed_sections": [],
      "machine_shape": "hm"
    },
    "kernelspec": {
      "name": "python3",
      "display_name": "Python 3"
    },
    "language_info": {
      "name": "python"
    },
    "accelerator": "TPU"
  },
  "cells": [
    {
      "cell_type": "code",
      "source": [
        "from tensorflow.keras.applications.resnet50 import ResNet50\n",
        "from tensorflow.keras.preprocessing import image\n",
        "from tensorflow.keras.applications.resnet50 import preprocess_input, decode_predictions\n",
        "import numpy as np\n",
        "from pathlib import Path\n",
        "model = ResNet50(weights='imagenet')\n",
        "from keras.preprocessing.image import load_img\n",
        "from keras.preprocessing.image import img_to_array\n",
        "from keras.applications.vgg16 import preprocess_input\n",
        "!pip install keract\n",
        "import keract\n",
        "from glob import glob\n",
        "import pandas as pd\n",
        "import numpy as np\n",
        "from google.colab import drive\n",
        "drive.mount('/content/drive')\n",
        "keyFileNameCorr = '/content/drive/MyDrive/Morteza/LungProject/PatientFilenameOrganizaiton/Lung1-7.xlsx'\n",
        "import pickle\n",
        "infile = open('/content/drive/MyDrive/Morteza/LungProject/Data/PreComputedResponses/allResponsesOriented_orig.pickle','rb')\n",
        "new_dict = pickle.load(infile)\n",
        "infile.close()\n",
        "from sklearn.datasets import load_iris\n",
        "from sklearn.model_selection import cross_val_score\n",
        "from sklearn.model_selection import train_test_split\n",
        "from sklearn.preprocessing import normalize\n",
        "from collections import Counter\n",
        "from sklearn.datasets import make_classification\n",
        "from collections import Counter\n",
        "from imblearn.over_sampling import SMOTE\n",
        "from imblearn.over_sampling import SVMSMOTE\n",
        "from imblearn.over_sampling import KMeansSMOTE\n",
        "from imblearn.over_sampling import ADASYN\n",
        "from imblearn.over_sampling import RandomOverSampler\n",
        "from matplotlib import pyplot\n",
        "from numpy import where\n",
        "from imblearn.under_sampling import RandomUnderSampler \n",
        "from statistics import mean\n",
        "from statistics import stdev\n",
        "import numpy as np\n",
        "from sklearn.pipeline import make_pipeline\n",
        "from sklearn.preprocessing import StandardScaler\n",
        "from sklearn.svm import SVC\n",
        "from sklearn.gaussian_process import GaussianProcessClassifier\n",
        "from sklearn.gaussian_process.kernels import RBF\n",
        "import numpy as np\n",
        "from sklearn.datasets import make_friedman1\n",
        "from sklearn.decomposition import MiniBatchSparsePCA\n",
        "from imblearn.over_sampling import RandomOverSampler \n",
        "!pip install umap-learn\n",
        "import umap\n",
        "from random import sample\n",
        "clinical_416_address = '/content/drive/MyDrive/Morteza/LungProject/PatientFilenameOrganizaiton/416_Prediction_Clinical_variables.xlsx'\n",
        "df_416 = pd.read_excel(clinical_416_address, dtype=str) \n",
        "df_416['SexGroup'].replace(['Male', 'Female'],[0, 1], inplace=True)\n",
        "df_416['StageCat'].replace(['Stage1-2', 'Stage3_4'],[0, 1], inplace=True)\n",
        "\n",
        "df_key_filename = pd.read_excel(keyFileNameCorr, dtype=str)\n"
      ],
      "metadata": {
        "colab": {
          "base_uri": "https://localhost:8080/"
        },
        "id": "dJWopdlqwa38",
        "outputId": "14ef0253-a799-4a1e-c004-3bea495b6b7e"
      },
      "execution_count": 1,
      "outputs": [
        {
          "output_type": "stream",
          "name": "stdout",
          "text": [
            "Downloading data from https://storage.googleapis.com/tensorflow/keras-applications/resnet/resnet50_weights_tf_dim_ordering_tf_kernels.h5\n",
            "102973440/102967424 [==============================] - 1s 0us/step\n",
            "102981632/102967424 [==============================] - 1s 0us/step\n",
            "Looking in indexes: https://pypi.org/simple, https://us-python.pkg.dev/colab-wheels/public/simple/\n",
            "Collecting keract\n",
            "  Downloading keract-4.5.0-py2.py3-none-any.whl (12 kB)\n",
            "Installing collected packages: keract\n",
            "Successfully installed keract-4.5.0\n",
            "Mounted at /content/drive\n",
            "Looking in indexes: https://pypi.org/simple, https://us-python.pkg.dev/colab-wheels/public/simple/\n",
            "Collecting umap-learn\n",
            "  Downloading umap-learn-0.5.3.tar.gz (88 kB)\n",
            "\u001b[K     |████████████████████████████████| 88 kB 3.7 MB/s \n",
            "\u001b[?25hRequirement already satisfied: numpy>=1.17 in /usr/local/lib/python3.7/dist-packages (from umap-learn) (1.21.6)\n",
            "Requirement already satisfied: scikit-learn>=0.22 in /usr/local/lib/python3.7/dist-packages (from umap-learn) (1.0.2)\n",
            "Requirement already satisfied: scipy>=1.0 in /usr/local/lib/python3.7/dist-packages (from umap-learn) (1.7.3)\n",
            "Requirement already satisfied: numba>=0.49 in /usr/local/lib/python3.7/dist-packages (from umap-learn) (0.56.0)\n",
            "Collecting pynndescent>=0.5\n",
            "  Downloading pynndescent-0.5.7.tar.gz (1.1 MB)\n",
            "\u001b[K     |████████████████████████████████| 1.1 MB 31.0 MB/s \n",
            "\u001b[?25hRequirement already satisfied: tqdm in /usr/local/lib/python3.7/dist-packages (from umap-learn) (4.64.0)\n",
            "Requirement already satisfied: setuptools in /usr/local/lib/python3.7/dist-packages (from numba>=0.49->umap-learn) (57.4.0)\n",
            "Requirement already satisfied: importlib-metadata in /usr/local/lib/python3.7/dist-packages (from numba>=0.49->umap-learn) (4.12.0)\n",
            "Requirement already satisfied: llvmlite<0.40,>=0.39.0dev0 in /usr/local/lib/python3.7/dist-packages (from numba>=0.49->umap-learn) (0.39.0)\n",
            "Requirement already satisfied: joblib>=0.11 in /usr/local/lib/python3.7/dist-packages (from pynndescent>=0.5->umap-learn) (1.1.0)\n",
            "Requirement already satisfied: threadpoolctl>=2.0.0 in /usr/local/lib/python3.7/dist-packages (from scikit-learn>=0.22->umap-learn) (3.1.0)\n",
            "Requirement already satisfied: zipp>=0.5 in /usr/local/lib/python3.7/dist-packages (from importlib-metadata->numba>=0.49->umap-learn) (3.8.1)\n",
            "Requirement already satisfied: typing-extensions>=3.6.4 in /usr/local/lib/python3.7/dist-packages (from importlib-metadata->numba>=0.49->umap-learn) (4.1.1)\n",
            "Building wheels for collected packages: umap-learn, pynndescent\n",
            "  Building wheel for umap-learn (setup.py) ... \u001b[?25l\u001b[?25hdone\n",
            "  Created wheel for umap-learn: filename=umap_learn-0.5.3-py3-none-any.whl size=82829 sha256=1275c59d49d0353b4ae50b8d91127fca5e4293e4b3fdd346551a6b9804d011a0\n",
            "  Stored in directory: /root/.cache/pip/wheels/b3/52/a5/1fd9e3e76a7ab34f134c07469cd6f16e27ef3a37aeff1fe821\n",
            "  Building wheel for pynndescent (setup.py) ... \u001b[?25l\u001b[?25hdone\n",
            "  Created wheel for pynndescent: filename=pynndescent-0.5.7-py3-none-any.whl size=54286 sha256=ab7f3ab21ea10272a3d7991010ae71dd472ec1938f107394585007648588aa56\n",
            "  Stored in directory: /root/.cache/pip/wheels/7f/2a/f8/7bd5dcec71bd5c669f6f574db3113513696b98f3f9b51f496c\n",
            "Successfully built umap-learn pynndescent\n",
            "Installing collected packages: pynndescent, umap-learn\n",
            "Successfully installed pynndescent-0.5.7 umap-learn-0.5.3\n"
          ]
        }
      ]
    },
    {
      "cell_type": "code",
      "execution_count": 2,
      "metadata": {
        "colab": {
          "base_uri": "https://localhost:8080/"
        },
        "id": "W-ChCwbWmFEu",
        "outputId": "cfa5d150-430f-4dee-8975-5e95994519a7"
      },
      "outputs": [
        {
          "output_type": "stream",
          "name": "stdout",
          "text": [
            "Number of markers removed = 29.0 out of 37 channels\n"
          ]
        }
      ],
      "source": [
        "metal_indicator_lung = '/content/drive/MyDrive/Morteza/LungProject/ClinicalVariablesSpecial/Metals_Indicators_MaleFemale.xlsx'\n",
        "deleteExtraFeatures = 1\n",
        "random_state_num = 22\n",
        "\n",
        "\n",
        "# print(len(allExamples))\n",
        "df = pd.read_excel (metal_indicator_lung)\n",
        "channel_names = df.Indicator.values\n",
        "co_marker = df.Comarker.values\n",
        "num_channels = len(channel_names)\n",
        "allFileNames = new_dict['allFileNames']\n",
        "allResponsesOriented = new_dict['allResponsesOriented']\n",
        "if deleteExtraFeatures:\n",
        "  toBeDeleted = []\n",
        "  for ind in range(num_channels):\n",
        "    if co_marker[ind]==0:\n",
        "      for j in range(2048):\n",
        "        toBeDeleted.append(ind*2048+j)\n",
        "  print('Number of markers removed = '+str(len(toBeDeleted)/2048)+' out of '+str(num_channels)+' channels')\n",
        "  allResponsesOriented = np.delete(allResponsesOriented,np.s_[toBeDeleted],axis=1)"
      ]
    },
    {
      "cell_type": "code",
      "source": [
        "# df_416\n",
        "\n",
        "label_column = df_416['Adenocarcinoma.predominant.type.1.lepidic.2.Acinar.3.Papillary.4.Micropapillary.5.Solid'].values\n",
        "# label_column = df_416['SexGroup'].values\n",
        "# label_column = df_416['StageCat'].values  #(comes with nan values)\n",
        "label_column = df_416['Progression (0 = no, 1= yes)'].values #(comes with nan values)\n",
        "# label_column = df_416['BMI <30 0, <30 1'].values\n",
        "# label_column = df_416['Smoker 0=never 1 = smoker'].values\n",
        "# label_column = df_416['Age above (1) below (0) 70'].values\n",
        "# label_column = df_416['Age above (1) below (0) 75'].values\n",
        "# label_column = df_416['survival 3 years'].values\n",
        "# label_column = df_416['5 year survival'].values\n",
        "\n",
        "file_name_column = df_416['File.name'].values\n",
        "\n",
        "\n",
        "\n",
        "used = set()\n",
        "# mylist = [u'nowplaying', u'PBS', u'PBS', u'nowplaying', u'job', u'debate', u'thenandnow']\n",
        "unique = [x for x in label_column if x not in used and (used.add(x) or True)]\n",
        "import math\n",
        "unique = [x for x in unique if not (isinstance(x, float) and math.isnan(x))]\n",
        "\n",
        "print(unique)\n",
        "y = []\n",
        "X = []\n",
        "\n",
        "target_0 = unique[0]\n",
        "target_1 = unique[1]\n",
        "\n",
        "\n",
        "# target_0 = '0'\n",
        "# target_1 = '1'\n",
        "if len(unique) > 2:\n",
        "  target_2 = unique[2]\n",
        "  target_3 = unique[3]\n",
        "  target_4 = unique[4]"
      ],
      "metadata": {
        "colab": {
          "base_uri": "https://localhost:8080/"
        },
        "id": "zTv3uB5iuyJR",
        "outputId": "1902f7c4-4abd-4e8c-b877-887ccdf020e9"
      },
      "execution_count": 3,
      "outputs": [
        {
          "output_type": "stream",
          "name": "stdout",
          "text": [
            "['0.0', '1.0']\n"
          ]
        }
      ]
    },
    {
      "cell_type": "code",
      "source": [
        "X = []\n",
        "y = []\n",
        "def remove_end_spaces(string):\n",
        "    return \"\".join(string.rstrip())\n",
        "for i in range(416):\n",
        "  ind_num = [index for index, value in enumerate(allFileNames[:416]) if value == remove_end_spaces(file_name_column[i])]\n",
        "  \n",
        "  y_val = label_column[i]\n",
        "  # print(ind_num)\n",
        "\n",
        "  if len(unique)==2:\n",
        "    if y_val==target_0 or y_val==target_1:    \n",
        "      y.append(y_val)\n",
        "      if len(X)==0:\n",
        "        X = allResponsesOriented[i,:]\n",
        "      else:\n",
        "        X = np.vstack([X, allResponsesOriented[ind_num,:]])\n",
        "  elif len(unique) > 2:\n",
        "    if y_val==target_0 or y_val==target_1 or y_val==target_2 or y_val==target_3 or y_val==target_4:    \n",
        "      y.append(y_val)\n",
        "      if len(X)==0:\n",
        "        X = allResponsesOriented[ind_num,:]\n",
        "      else:\n",
        "        X = np.vstack([X, allResponsesOriented[ind_num,:]])\n",
        "\n",
        "\n",
        "copyX = X\n",
        "copyY = y"
      ],
      "metadata": {
        "id": "9T325dRf3zFU"
      },
      "execution_count": 4,
      "outputs": []
    },
    {
      "cell_type": "code",
      "source": [
        "X.shape"
      ],
      "metadata": {
        "colab": {
          "base_uri": "https://localhost:8080/"
        },
        "id": "bT3_sy9uK_kW",
        "outputId": "fa007619-e2da-4617-c44b-fb8a5561ec02"
      },
      "execution_count": 5,
      "outputs": [
        {
          "output_type": "execute_result",
          "data": {
            "text/plain": [
              "(404, 16384)"
            ]
          },
          "metadata": {},
          "execution_count": 5
        }
      ]
    },
    {
      "cell_type": "code",
      "source": [
        "X = copyX\n",
        "y = copyY\n",
        "A = Counter(y)\n",
        "if len(unique)==2:\n",
        "  class_0 = A.get(target_0)\n",
        "  class_1 = A.get(target_1)\n",
        "  n0 = int(class_0/10)\n",
        "  n1 = int(class_1/10)\n",
        "  baseline_dist = max(class_0,class_1)/(max(class_0,class_1)+min(class_0,class_1))\n",
        "  ratio = max(class_0,class_1)/min(class_0,class_1)\n",
        "elif len(unique) > 2:\n",
        "  ratio = 2\n",
        "print('Original dataset shape %s' % Counter(y))\n",
        "if ratio >=2:\n",
        "  ros = RandomOverSampler(random_state=42)\n",
        "  X, y = ros.fit_resample(X, y)\n",
        "  print('Resampled dataset shape %s' % Counter(y))\n",
        "\n",
        "\n",
        "yy = np.array(y)\n",
        "import numpy as np\n",
        "from sklearn.model_selection import KFold\n",
        "kf = KFold(n_splits=5,random_state=10,shuffle=True)\n",
        "kf.get_n_splits(X)\n",
        "\n",
        "delete_dup = True\n",
        "# print(kf)\n",
        "\n",
        "for train_index, test_index in kf.split(X):\n",
        "    # print(\"TRAIN:\", train_index, \"TEST:\", test_index)\n",
        "    X_train, X_test = X[train_index], X[test_index]\n",
        "    y_train, y_test = yy[train_index], yy[test_index]\n",
        "    toBeDeleted = []\n",
        "    if delete_dup: \n",
        "      for i in range(X_test.shape[0]):\n",
        "        query = X_test[i]\n",
        "        j = 0\n",
        "        query_found = 0\n",
        "        while j < X_train.shape[0] and query_found==0:\n",
        "          match = X_train[j]\n",
        "          dist = np.linalg.norm(query-match)\n",
        "          if dist == 0:\n",
        "            query_found = 1\n",
        "            toBeDeleted.append(i)\n",
        "          j = j + 1\n",
        "\n",
        "      if X_test.shape[0]-len(toBeDeleted) >= 5:\n",
        "        X_test = np.delete(X_test,np.s_[toBeDeleted],axis=0)\n",
        "        y_test = np.delete(y_test,np.s_[toBeDeleted],axis=0)\n",
        "    transformer = MiniBatchSparsePCA(n_components=10, batch_size=500,random_state=0)\n",
        "    transformer.fit(X_train)\n",
        "    X_tr_em = transformer.transform(X_train)\n",
        "    X_te_em = transformer.transform(X_test)\n",
        "    kernel = 1.0 * RBF(1.0)\n",
        "    clf = make_pipeline(StandardScaler(), SVC(gamma=1e1,C=1e1,kernel = kernel))\n",
        "    clf.fit(X_tr_em, y_train)\n",
        "    print('test score = '+str(clf.score(X_te_em,y_test)))\n",
        "    \n",
        "A = Counter(copyY)\n",
        "if len(unique)==2:\n",
        "  class_0 = A.get(target_0)\n",
        "  class_1 = A.get(target_1)\n",
        "  ratio = max(class_0,class_1)/(max(class_0,class_1)+min(class_0,class_1))\n",
        "  print('baseline = '+str(ratio))\n",
        "\n",
        "\n",
        "# X_train, X_test, y_train, y_test = train_test_split(X, y, test_size=0.2, random_state=12)"
      ],
      "metadata": {
        "id": "wFMMgEwNwnPP",
        "colab": {
          "base_uri": "https://localhost:8080/"
        },
        "outputId": "10d68863-06ab-49b3-848e-4be3153fa34b"
      },
      "execution_count": 6,
      "outputs": [
        {
          "output_type": "stream",
          "name": "stdout",
          "text": [
            "Original dataset shape Counter({'0.0': 340, '1.0': 64})\n",
            "Resampled dataset shape Counter({'0.0': 340, '1.0': 340})\n",
            "test score = 0.9420289855072463\n",
            "test score = 0.972972972972973\n",
            "test score = 0.9305555555555556\n",
            "test score = 0.953125\n",
            "test score = 0.9848484848484849\n",
            "baseline = 0.8415841584158416\n"
          ]
        }
      ]
    }
  ]
}